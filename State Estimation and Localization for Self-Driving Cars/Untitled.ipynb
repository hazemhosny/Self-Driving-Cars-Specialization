{
 "cells": [
  {
   "cell_type": "code",
   "execution_count": 30,
   "metadata": {},
   "outputs": [
    {
     "name": "stdout",
     "output_type": "stream",
     "text": [
      "[[0.5]\n",
      " [0.5]\n",
      " [1. ]\n",
      " [1. ]]\n",
      "[[960.]\n",
      " [720.]\n",
      " [  1.]]\n",
      "[[960.]\n",
      " [720.]\n",
      " [  1.]]\n"
     ]
    }
   ],
   "source": [
    "import numpy as np\n",
    "\n",
    "R = np.array([[1,0,0,1],[0,-1,0,2],[0,0,-1,10],[0,0,0,1]])\n",
    "O_world = np.array([[-0.5,1.5,9,1]]).T\n",
    "\n",
    "O_camera = R@O_world\n",
    "print(O_camera)\n",
    "\n",
    "k = np.array([[640,0,640],[0,480,480],[0,0,1]])\n",
    "O_image = k @ O_camera[:-1]\n",
    "\n",
    "print(O_image)\n",
    "\n",
    "O_pixel = O_image/O_image[2]\n",
    "print(O_pixel)"
   ]
  },
  {
   "cell_type": "code",
   "execution_count": null,
   "metadata": {},
   "outputs": [],
   "source": []
  }
 ],
 "metadata": {
  "kernelspec": {
   "display_name": "Python 3",
   "language": "python",
   "name": "python3"
  },
  "language_info": {
   "codemirror_mode": {
    "name": "ipython",
    "version": 3
   },
   "file_extension": ".py",
   "mimetype": "text/x-python",
   "name": "python",
   "nbconvert_exporter": "python",
   "pygments_lexer": "ipython3",
   "version": "3.7.6"
  }
 },
 "nbformat": 4,
 "nbformat_minor": 4
}
